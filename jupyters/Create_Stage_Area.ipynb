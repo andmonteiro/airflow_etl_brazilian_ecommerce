{
 "cells": [
  {
   "cell_type": "code",
   "execution_count": 1,
   "id": "3ab6a760",
   "metadata": {},
   "outputs": [],
   "source": [
    "import pandas as pd\n",
    "from sqlalchemy import create_engine\n",
    "import os"
   ]
  },
  {
   "cell_type": "code",
   "execution_count": 2,
   "id": "f97293ea",
   "metadata": {},
   "outputs": [],
   "source": [
    "files_path = '../files/stage/'\n",
    "\n",
    "files_list = os.listdir(files_path)"
   ]
  },
  {
   "cell_type": "code",
   "execution_count": 4,
   "id": "f9eb6732",
   "metadata": {},
   "outputs": [
    {
     "data": {
      "text/plain": [
       "['olist_customers_dataset.csv',\n",
       " 'olist_geolocation_dataset.csv',\n",
       " 'olist_orders_dataset.csv',\n",
       " 'olist_order_items_dataset.csv',\n",
       " 'olist_order_payments_dataset.csv',\n",
       " 'olist_order_reviews_dataset.csv',\n",
       " 'olist_products_dataset.csv',\n",
       " 'olist_sellers_dataset.csv',\n",
       " 'product_category_name_translation.csv']"
      ]
     },
     "execution_count": 4,
     "metadata": {},
     "output_type": "execute_result"
    }
   ],
   "source": [
    "files_list"
   ]
  },
  {
   "cell_type": "code",
   "execution_count": 6,
   "id": "f709c3ca",
   "metadata": {},
   "outputs": [],
   "source": [
    "database_username = 'root'\n",
    "database_password = 'sqlpass'\n",
    "database_ip       = 'localhost'\n",
    "database_name     = 'stage_area'\n",
    "database_connection = create_engine('mysql+mysqlconnector://{0}:{1}@{2}'.\n",
    "                                               format(database_username, database_password, \n",
    "                                                      database_ip))\n",
    "conn = database_connection.connect()\n",
    "conn.execute('DROP DATABASE IF EXISTS {}'.format(database_name))\n",
    "conn.execute('CREATE DATABASE {}'.format(database_name))\n",
    "conn.execute('DROP DATABASE IF EXISTS {}'.format('DW'))\n",
    "conn.execute('CREATE DATABASE {}'.format('DW'))\n",
    "conn.execute('SET GLOBAL connect_timeout=28800')\n",
    "conn.execute('SET GLOBAL max_allowed_packet=1000000000')\n",
    "\n",
    "database_connection = create_engine('mysql+mysqlconnector://{0}:{1}@{2}/{3}'.\n",
    "                                               format(database_username, database_password, \n",
    "                                                      database_ip, database_name))"
   ]
  },
  {
   "cell_type": "markdown",
   "id": "f53d6a2a",
   "metadata": {},
   "source": [
    "# Primeiro upload de dados"
   ]
  },
  {
   "cell_type": "code",
   "execution_count": 12,
   "id": "e62bb117",
   "metadata": {},
   "outputs": [
    {
     "name": "stdout",
     "output_type": "stream",
     "text": [
      "customers\n",
      "geolocation\n",
      "orders\n",
      "order_items\n",
      "order_payments\n",
      "order_reviews\n",
      "products\n",
      "sellers\n",
      "category_name\n"
     ]
    }
   ],
   "source": [
    "for file in files_list:\n",
    "    df = pd.read_csv(files_path + file)\n",
    "    \n",
    "    if len(file.split('_')[1:-1]) > 1:\n",
    "        table_name = '_'.join(file.split('_')[1:-1])\n",
    "    else:\n",
    "        table_name = file.split('_')[1:-1][0]\n",
    "\n",
    "    print(table_name)\n",
    "    conn.execute('DROP TABLE IF EXISTS {}.{}'.format(database_name, table_name))\n",
    "    df.to_sql(table_name, con= database_connection, index=False)\n",
    "    \n",
    "    database_connection = create_engine('mysql+mysqlconnector://{0}:{1}@{2}/{3}'.format(\n",
    "        database_username,\n",
    "        database_password,\n",
    "        database_ip,\n",
    "        database_name))"
   ]
  },
  {
   "cell_type": "code",
   "execution_count": null,
   "id": "d680fde7",
   "metadata": {},
   "outputs": [],
   "source": []
  }
 ],
 "metadata": {
  "kernelspec": {
   "display_name": "Python 3",
   "language": "python",
   "name": "python3"
  },
  "language_info": {
   "codemirror_mode": {
    "name": "ipython",
    "version": 3
   },
   "file_extension": ".py",
   "mimetype": "text/x-python",
   "name": "python",
   "nbconvert_exporter": "python",
   "pygments_lexer": "ipython3",
   "version": "3.8.8"
  }
 },
 "nbformat": 4,
 "nbformat_minor": 5
}
